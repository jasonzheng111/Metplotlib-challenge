{
 "cells": [
  {
   "cell_type": "markdown",
   "metadata": {},
   "source": [
    "## Observations and Insights "
   ]
  },
  {
   "cell_type": "markdown",
   "metadata": {},
   "source": []
  },
  {
   "cell_type": "code",
   "execution_count": 504,
   "metadata": {},
   "outputs": [],
   "source": [
    "# Dependencies and Setup\n",
    "import matplotlib.pyplot as plt\n",
    "import pandas as pd\n",
    "import scipy.stats as st\n",
    "\n",
    "# Study data files\n",
    "mouse_metadata_path = \"data/Mouse_metadata.csv\"\n",
    "study_results_path = \"data/Study_results.csv\"\n",
    "\n",
    "# Read the mouse data and the study results\n",
    "mouse_metadata = pd.read_csv(mouse_metadata_path)\n",
    "study_results = pd.read_csv(study_results_path)\n",
    "\n",
    "# Combine the data into a single dataset\n"
   ]
  },
  {
   "cell_type": "code",
   "execution_count": 505,
   "metadata": {},
   "outputs": [
    {
     "data": {
      "text/plain": [
       "'/Users/huiyingzheng/Desktop/Metplotlib-challenge'"
      ]
     },
     "execution_count": 505,
     "metadata": {},
     "output_type": "execute_result"
    }
   ],
   "source": [
    "# First identify current pwd\n",
    "import os\n",
    "os.getcwd() "
   ]
  },
  {
   "cell_type": "code",
   "execution_count": 506,
   "metadata": {},
   "outputs": [],
   "source": [
    "# Dependencies and Setup\n",
    "import matplotlib.pyplot as plt\n",
    "import pandas as pd\n",
    "import scipy.stats as st\n",
    "\n",
    "# Study data files\n",
    "mouse_metadata_path = \"data/Mouse_metadata.csv\"\n",
    "study_results_path = \"data/Study_results.csv\"\n",
    "\n",
    "# Read the mouse data and the study results\n",
    "mouse_metadata = pd.read_csv(mouse_metadata_path)\n",
    "study_results = pd.read_csv(study_results_path)\n",
    "\n"
   ]
  },
  {
   "cell_type": "code",
   "execution_count": 507,
   "metadata": {},
   "outputs": [
    {
     "name": "stdout",
     "output_type": "stream",
     "text": [
      "<class 'pandas.core.frame.DataFrame'>\n",
      "RangeIndex: 249 entries, 0 to 248\n",
      "Data columns (total 5 columns):\n",
      " #   Column        Non-Null Count  Dtype \n",
      "---  ------        --------------  ----- \n",
      " 0   Mouse ID      249 non-null    object\n",
      " 1   Drug Regimen  249 non-null    object\n",
      " 2   Sex           249 non-null    object\n",
      " 3   Age_months    249 non-null    int64 \n",
      " 4   Weight (g)    249 non-null    int64 \n",
      "dtypes: int64(2), object(3)\n",
      "memory usage: 9.9+ KB\n"
     ]
    }
   ],
   "source": [
    "# check if any duplicates in mouse_metadata\n",
    "mouse_metadata.info()"
   ]
  },
  {
   "cell_type": "code",
   "execution_count": 508,
   "metadata": {},
   "outputs": [
    {
     "name": "stdout",
     "output_type": "stream",
     "text": [
      "<class 'pandas.core.frame.DataFrame'>\n",
      "Int64Index: 249 entries, 0 to 248\n",
      "Data columns (total 5 columns):\n",
      " #   Column        Non-Null Count  Dtype \n",
      "---  ------        --------------  ----- \n",
      " 0   Mouse ID      249 non-null    object\n",
      " 1   Drug Regimen  249 non-null    object\n",
      " 2   Sex           249 non-null    object\n",
      " 3   Age_months    249 non-null    int64 \n",
      " 4   Weight (g)    249 non-null    int64 \n",
      "dtypes: int64(2), object(3)\n",
      "memory usage: 11.7+ KB\n"
     ]
    }
   ],
   "source": [
    "# I don't think there are any duplicates in mouse_metadata\n",
    "mouse_metadata_rd = mouse_metadata.drop_duplicates()\n",
    "mouse_metadata_rd.info()"
   ]
  },
  {
   "cell_type": "code",
   "execution_count": 509,
   "metadata": {},
   "outputs": [
    {
     "name": "stdout",
     "output_type": "stream",
     "text": [
      "<class 'pandas.core.frame.DataFrame'>\n",
      "Int64Index: 1892 entries, 0 to 1892\n",
      "Data columns (total 4 columns):\n",
      " #   Column              Non-Null Count  Dtype  \n",
      "---  ------              --------------  -----  \n",
      " 0   Mouse ID            1892 non-null   object \n",
      " 1   Timepoint           1892 non-null   int64  \n",
      " 2   Tumor Volume (mm3)  1892 non-null   float64\n",
      " 3   Metastatic Sites    1892 non-null   int64  \n",
      "dtypes: float64(1), int64(2), object(1)\n",
      "memory usage: 73.9+ KB\n"
     ]
    }
   ],
   "source": [
    "# I don't think there are any duplicates in study_results, because this data is a time series with 5 data points for \n",
    "# each mouse at different time points, showing their tumor status changes, including met status...\n",
    "study_results_rd = study_results.drop_duplicates()\n",
    "study_results_rd.info()"
   ]
  },
  {
   "cell_type": "code",
   "execution_count": 510,
   "metadata": {},
   "outputs": [
    {
     "data": {
      "text/plain": [
       "10"
      ]
     },
     "execution_count": 510,
     "metadata": {},
     "output_type": "execute_result"
    }
   ],
   "source": [
    "timepoint = study_results[\"Timepoint\"].unique()\n",
    "len(timepoint)"
   ]
  },
  {
   "cell_type": "code",
   "execution_count": 511,
   "metadata": {},
   "outputs": [
    {
     "data": {
      "text/html": [
       "<div>\n",
       "<style scoped>\n",
       "    .dataframe tbody tr th:only-of-type {\n",
       "        vertical-align: middle;\n",
       "    }\n",
       "\n",
       "    .dataframe tbody tr th {\n",
       "        vertical-align: top;\n",
       "    }\n",
       "\n",
       "    .dataframe thead th {\n",
       "        text-align: right;\n",
       "    }\n",
       "</style>\n",
       "<table border=\"1\" class=\"dataframe\">\n",
       "  <thead>\n",
       "    <tr style=\"text-align: right;\">\n",
       "      <th></th>\n",
       "      <th>Mouse ID</th>\n",
       "      <th>Drug Regimen</th>\n",
       "      <th>Sex</th>\n",
       "      <th>Age_months</th>\n",
       "      <th>Weight (g)</th>\n",
       "    </tr>\n",
       "  </thead>\n",
       "  <tbody>\n",
       "    <tr>\n",
       "      <th>0</th>\n",
       "      <td>k403</td>\n",
       "      <td>Ramicane</td>\n",
       "      <td>Male</td>\n",
       "      <td>21</td>\n",
       "      <td>16</td>\n",
       "    </tr>\n",
       "    <tr>\n",
       "      <th>1</th>\n",
       "      <td>s185</td>\n",
       "      <td>Capomulin</td>\n",
       "      <td>Female</td>\n",
       "      <td>3</td>\n",
       "      <td>17</td>\n",
       "    </tr>\n",
       "    <tr>\n",
       "      <th>2</th>\n",
       "      <td>x401</td>\n",
       "      <td>Capomulin</td>\n",
       "      <td>Female</td>\n",
       "      <td>16</td>\n",
       "      <td>15</td>\n",
       "    </tr>\n",
       "    <tr>\n",
       "      <th>3</th>\n",
       "      <td>m601</td>\n",
       "      <td>Capomulin</td>\n",
       "      <td>Male</td>\n",
       "      <td>22</td>\n",
       "      <td>17</td>\n",
       "    </tr>\n",
       "    <tr>\n",
       "      <th>4</th>\n",
       "      <td>g791</td>\n",
       "      <td>Ramicane</td>\n",
       "      <td>Male</td>\n",
       "      <td>11</td>\n",
       "      <td>16</td>\n",
       "    </tr>\n",
       "  </tbody>\n",
       "</table>\n",
       "</div>"
      ],
      "text/plain": [
       "  Mouse ID Drug Regimen     Sex  Age_months  Weight (g)\n",
       "0     k403     Ramicane    Male          21          16\n",
       "1     s185    Capomulin  Female           3          17\n",
       "2     x401    Capomulin  Female          16          15\n",
       "3     m601    Capomulin    Male          22          17\n",
       "4     g791     Ramicane    Male          11          16"
      ]
     },
     "execution_count": 511,
     "metadata": {},
     "output_type": "execute_result"
    }
   ],
   "source": [
    "mouse_merge = mouse_metadata\n",
    "mouse_merge.head()"
   ]
  },
  {
   "cell_type": "code",
   "execution_count": 512,
   "metadata": {},
   "outputs": [
    {
     "data": {
      "text/html": [
       "<div>\n",
       "<style scoped>\n",
       "    .dataframe tbody tr th:only-of-type {\n",
       "        vertical-align: middle;\n",
       "    }\n",
       "\n",
       "    .dataframe tbody tr th {\n",
       "        vertical-align: top;\n",
       "    }\n",
       "\n",
       "    .dataframe thead th {\n",
       "        text-align: right;\n",
       "    }\n",
       "</style>\n",
       "<table border=\"1\" class=\"dataframe\">\n",
       "  <thead>\n",
       "    <tr style=\"text-align: right;\">\n",
       "      <th></th>\n",
       "      <th>Mouse ID</th>\n",
       "      <th>Drug Regimen</th>\n",
       "      <th>Sex</th>\n",
       "      <th>Age_months</th>\n",
       "      <th>Weight (g)</th>\n",
       "      <th>Timepoint_0</th>\n",
       "      <th>Tumor_volume (mm3)_0</th>\n",
       "      <th>Metastatic_sites_0</th>\n",
       "      <th>Timepoint_1</th>\n",
       "      <th>Tumor_volume (mm3)_1</th>\n",
       "      <th>...</th>\n",
       "      <th>Metastatic_sites_6</th>\n",
       "      <th>Timepoint_7</th>\n",
       "      <th>Tumor_volume (mm3)_7</th>\n",
       "      <th>Metastatic_sites_7</th>\n",
       "      <th>Timepoint_8</th>\n",
       "      <th>Tumor_volume (mm3)_8</th>\n",
       "      <th>Metastatic_sites_8</th>\n",
       "      <th>Timepoint_9</th>\n",
       "      <th>Tumor_volume (mm3)_9</th>\n",
       "      <th>Metastatic_sites_9</th>\n",
       "    </tr>\n",
       "  </thead>\n",
       "  <tbody>\n",
       "    <tr>\n",
       "      <th>0</th>\n",
       "      <td>k403</td>\n",
       "      <td>Ramicane</td>\n",
       "      <td>Male</td>\n",
       "      <td>21</td>\n",
       "      <td>16</td>\n",
       "      <td>0</td>\n",
       "      <td>45.0</td>\n",
       "      <td>0</td>\n",
       "      <td>5.0</td>\n",
       "      <td>38.825898</td>\n",
       "      <td>...</td>\n",
       "      <td>1.0</td>\n",
       "      <td>35.0</td>\n",
       "      <td>26.546993</td>\n",
       "      <td>1.0</td>\n",
       "      <td>40.0</td>\n",
       "      <td>24.365505</td>\n",
       "      <td>1.0</td>\n",
       "      <td>45.0</td>\n",
       "      <td>22.050126</td>\n",
       "      <td>1.0</td>\n",
       "    </tr>\n",
       "    <tr>\n",
       "      <th>1</th>\n",
       "      <td>s185</td>\n",
       "      <td>Capomulin</td>\n",
       "      <td>Female</td>\n",
       "      <td>3</td>\n",
       "      <td>17</td>\n",
       "      <td>0</td>\n",
       "      <td>45.0</td>\n",
       "      <td>0</td>\n",
       "      <td>5.0</td>\n",
       "      <td>43.878496</td>\n",
       "      <td>...</td>\n",
       "      <td>1.0</td>\n",
       "      <td>35.0</td>\n",
       "      <td>28.328531</td>\n",
       "      <td>1.0</td>\n",
       "      <td>40.0</td>\n",
       "      <td>25.472143</td>\n",
       "      <td>1.0</td>\n",
       "      <td>45.0</td>\n",
       "      <td>23.343598</td>\n",
       "      <td>1.0</td>\n",
       "    </tr>\n",
       "    <tr>\n",
       "      <th>2</th>\n",
       "      <td>x401</td>\n",
       "      <td>Capomulin</td>\n",
       "      <td>Female</td>\n",
       "      <td>16</td>\n",
       "      <td>15</td>\n",
       "      <td>0</td>\n",
       "      <td>45.0</td>\n",
       "      <td>0</td>\n",
       "      <td>5.0</td>\n",
       "      <td>45.473753</td>\n",
       "      <td>...</td>\n",
       "      <td>0.0</td>\n",
       "      <td>35.0</td>\n",
       "      <td>30.206825</td>\n",
       "      <td>0.0</td>\n",
       "      <td>40.0</td>\n",
       "      <td>28.167397</td>\n",
       "      <td>0.0</td>\n",
       "      <td>45.0</td>\n",
       "      <td>28.484033</td>\n",
       "      <td>0.0</td>\n",
       "    </tr>\n",
       "    <tr>\n",
       "      <th>3</th>\n",
       "      <td>m601</td>\n",
       "      <td>Capomulin</td>\n",
       "      <td>Male</td>\n",
       "      <td>22</td>\n",
       "      <td>17</td>\n",
       "      <td>0</td>\n",
       "      <td>45.0</td>\n",
       "      <td>0</td>\n",
       "      <td>5.0</td>\n",
       "      <td>41.408591</td>\n",
       "      <td>...</td>\n",
       "      <td>1.0</td>\n",
       "      <td>35.0</td>\n",
       "      <td>30.834357</td>\n",
       "      <td>1.0</td>\n",
       "      <td>40.0</td>\n",
       "      <td>31.378045</td>\n",
       "      <td>1.0</td>\n",
       "      <td>45.0</td>\n",
       "      <td>28.430964</td>\n",
       "      <td>1.0</td>\n",
       "    </tr>\n",
       "    <tr>\n",
       "      <th>4</th>\n",
       "      <td>g791</td>\n",
       "      <td>Ramicane</td>\n",
       "      <td>Male</td>\n",
       "      <td>11</td>\n",
       "      <td>16</td>\n",
       "      <td>0</td>\n",
       "      <td>45.0</td>\n",
       "      <td>0</td>\n",
       "      <td>5.0</td>\n",
       "      <td>45.851531</td>\n",
       "      <td>...</td>\n",
       "      <td>1.0</td>\n",
       "      <td>35.0</td>\n",
       "      <td>30.960392</td>\n",
       "      <td>1.0</td>\n",
       "      <td>40.0</td>\n",
       "      <td>31.369406</td>\n",
       "      <td>1.0</td>\n",
       "      <td>45.0</td>\n",
       "      <td>29.128472</td>\n",
       "      <td>1.0</td>\n",
       "    </tr>\n",
       "  </tbody>\n",
       "</table>\n",
       "<p>5 rows × 35 columns</p>\n",
       "</div>"
      ],
      "text/plain": [
       "  Mouse ID Drug Regimen     Sex  Age_months  Weight (g)  Timepoint_0  \\\n",
       "0     k403     Ramicane    Male          21          16            0   \n",
       "1     s185    Capomulin  Female           3          17            0   \n",
       "2     x401    Capomulin  Female          16          15            0   \n",
       "3     m601    Capomulin    Male          22          17            0   \n",
       "4     g791     Ramicane    Male          11          16            0   \n",
       "\n",
       "   Tumor_volume (mm3)_0  Metastatic_sites_0  Timepoint_1  \\\n",
       "0                  45.0                   0          5.0   \n",
       "1                  45.0                   0          5.0   \n",
       "2                  45.0                   0          5.0   \n",
       "3                  45.0                   0          5.0   \n",
       "4                  45.0                   0          5.0   \n",
       "\n",
       "   Tumor_volume (mm3)_1  ...  Metastatic_sites_6  Timepoint_7  \\\n",
       "0             38.825898  ...                 1.0         35.0   \n",
       "1             43.878496  ...                 1.0         35.0   \n",
       "2             45.473753  ...                 0.0         35.0   \n",
       "3             41.408591  ...                 1.0         35.0   \n",
       "4             45.851531  ...                 1.0         35.0   \n",
       "\n",
       "   Tumor_volume (mm3)_7  Metastatic_sites_7  Timepoint_8  \\\n",
       "0             26.546993                 1.0         40.0   \n",
       "1             28.328531                 1.0         40.0   \n",
       "2             30.206825                 0.0         40.0   \n",
       "3             30.834357                 1.0         40.0   \n",
       "4             30.960392                 1.0         40.0   \n",
       "\n",
       "   Tumor_volume (mm3)_8  Metastatic_sites_8  Timepoint_9  \\\n",
       "0             24.365505                 1.0         45.0   \n",
       "1             25.472143                 1.0         45.0   \n",
       "2             28.167397                 0.0         45.0   \n",
       "3             31.378045                 1.0         45.0   \n",
       "4             31.369406                 1.0         45.0   \n",
       "\n",
       "   Tumor_volume (mm3)_9  Metastatic_sites_9  \n",
       "0             22.050126                 1.0  \n",
       "1             23.343598                 1.0  \n",
       "2             28.484033                 0.0  \n",
       "3             28.430964                 1.0  \n",
       "4             29.128472                 1.0  \n",
       "\n",
       "[5 rows x 35 columns]"
      ]
     },
     "execution_count": 512,
     "metadata": {},
     "output_type": "execute_result"
    }
   ],
   "source": [
    "# Combine the data into a single dataset\n",
    "# I first divide the data into five datasets according to time points \n",
    "mouse_merge = mouse_metadata\n",
    "for i in range(len(timepoint)):\n",
    "    study_results_time = study_results.loc[study_results.Timepoint == timepoint[i]]\n",
    "    study_results_time = study_results_time.rename(columns={\"Timepoint\":\"Timepoint_\"+str(i), \n",
    "                                                            \"Tumor Volume (mm3)\":\"Tumor_volume (mm3)_\"+str(i), \n",
    "                                                            \"Metastatic Sites\": \"Metastatic_sites_\"+str(i)})\n",
    "    mouse_merge = pd.merge(mouse_merge, study_results_time, on=\"Mouse ID\", how=\"left\")\n",
    "    \n",
    "mouse_merge.head()"
   ]
  },
  {
   "cell_type": "code",
   "execution_count": 513,
   "metadata": {},
   "outputs": [
    {
     "data": {
      "text/plain": [
       "249"
      ]
     },
     "execution_count": 513,
     "metadata": {},
     "output_type": "execute_result"
    }
   ],
   "source": [
    "# Checking the number of mice in the DataFrame.\n",
    "len(mouse_merge[\"Mouse ID\"].unique())"
   ]
  },
  {
   "cell_type": "code",
   "execution_count": 3,
   "metadata": {},
   "outputs": [],
   "source": [
    "# Getting the duplicate mice by ID number that shows up for Mouse ID and Timepoint. \n",
    "# Answer: there are no duplicates, but I think the homework is asking to analyze the last time point observations,\n",
    "# Answer: So I only need to analyze the Timepoint_9 in my dataset, with their tumor volume"
   ]
  },
  {
   "cell_type": "code",
   "execution_count": 4,
   "metadata": {},
   "outputs": [],
   "source": [
    "# Optional: Get all the data for the duplicate mouse ID. \n",
    "# Answer: The duplicate mouse are those with other data points from different time points"
   ]
  },
  {
   "cell_type": "code",
   "execution_count": 5,
   "metadata": {},
   "outputs": [],
   "source": [
    "# Create a clean DataFrame by dropping the duplicate mouse by its ID.\n",
    "# Answer: already did"
   ]
  },
  {
   "cell_type": "code",
   "execution_count": 514,
   "metadata": {},
   "outputs": [
    {
     "data": {
      "text/plain": [
       "249"
      ]
     },
     "execution_count": 514,
     "metadata": {},
     "output_type": "execute_result"
    }
   ],
   "source": [
    "# Checking the number of mice in the clean DataFrame.\n",
    "len(mouse_merge[\"Mouse ID\"].unique())"
   ]
  },
  {
   "cell_type": "markdown",
   "metadata": {},
   "source": [
    "## Summary Statistics"
   ]
  },
  {
   "cell_type": "code",
   "execution_count": 515,
   "metadata": {},
   "outputs": [
    {
     "data": {
      "text/html": [
       "<div>\n",
       "<style scoped>\n",
       "    .dataframe tbody tr th:only-of-type {\n",
       "        vertical-align: middle;\n",
       "    }\n",
       "\n",
       "    .dataframe tbody tr th {\n",
       "        vertical-align: top;\n",
       "    }\n",
       "\n",
       "    .dataframe thead th {\n",
       "        text-align: right;\n",
       "    }\n",
       "</style>\n",
       "<table border=\"1\" class=\"dataframe\">\n",
       "  <thead>\n",
       "    <tr style=\"text-align: right;\">\n",
       "      <th></th>\n",
       "      <th>Drug Name</th>\n",
       "      <th>Mean</th>\n",
       "      <th>Median</th>\n",
       "      <th>Variance</th>\n",
       "      <th>Std</th>\n",
       "      <th>SEM</th>\n",
       "    </tr>\n",
       "  </thead>\n",
       "  <tbody>\n",
       "    <tr>\n",
       "      <th>0</th>\n",
       "      <td>Ramicane</td>\n",
       "      <td>34.96</td>\n",
       "      <td>34.85</td>\n",
       "      <td>30.10</td>\n",
       "      <td>5.49</td>\n",
       "      <td>1.23</td>\n",
       "    </tr>\n",
       "    <tr>\n",
       "      <th>1</th>\n",
       "      <td>Capomulin</td>\n",
       "      <td>36.24</td>\n",
       "      <td>37.31</td>\n",
       "      <td>31.46</td>\n",
       "      <td>5.61</td>\n",
       "      <td>1.22</td>\n",
       "    </tr>\n",
       "    <tr>\n",
       "      <th>2</th>\n",
       "      <td>Infubinol</td>\n",
       "      <td>65.76</td>\n",
       "      <td>66.08</td>\n",
       "      <td>11.79</td>\n",
       "      <td>3.43</td>\n",
       "      <td>1.14</td>\n",
       "    </tr>\n",
       "    <tr>\n",
       "      <th>3</th>\n",
       "      <td>Placebo</td>\n",
       "      <td>68.08</td>\n",
       "      <td>69.04</td>\n",
       "      <td>20.10</td>\n",
       "      <td>4.48</td>\n",
       "      <td>1.35</td>\n",
       "    </tr>\n",
       "    <tr>\n",
       "      <th>4</th>\n",
       "      <td>Ceftamin</td>\n",
       "      <td>64.13</td>\n",
       "      <td>64.30</td>\n",
       "      <td>10.59</td>\n",
       "      <td>3.25</td>\n",
       "      <td>0.90</td>\n",
       "    </tr>\n",
       "    <tr>\n",
       "      <th>5</th>\n",
       "      <td>Stelasyn</td>\n",
       "      <td>68.44</td>\n",
       "      <td>69.30</td>\n",
       "      <td>27.34</td>\n",
       "      <td>5.23</td>\n",
       "      <td>1.58</td>\n",
       "    </tr>\n",
       "    <tr>\n",
       "      <th>6</th>\n",
       "      <td>Zoniferol</td>\n",
       "      <td>65.96</td>\n",
       "      <td>65.68</td>\n",
       "      <td>14.10</td>\n",
       "      <td>3.76</td>\n",
       "      <td>1.00</td>\n",
       "    </tr>\n",
       "    <tr>\n",
       "      <th>7</th>\n",
       "      <td>Ketapril</td>\n",
       "      <td>70.66</td>\n",
       "      <td>69.87</td>\n",
       "      <td>23.23</td>\n",
       "      <td>4.82</td>\n",
       "      <td>1.45</td>\n",
       "    </tr>\n",
       "    <tr>\n",
       "      <th>8</th>\n",
       "      <td>Propriva</td>\n",
       "      <td>66.26</td>\n",
       "      <td>64.96</td>\n",
       "      <td>24.97</td>\n",
       "      <td>5.00</td>\n",
       "      <td>1.89</td>\n",
       "    </tr>\n",
       "    <tr>\n",
       "      <th>9</th>\n",
       "      <td>Naftisol</td>\n",
       "      <td>69.27</td>\n",
       "      <td>69.56</td>\n",
       "      <td>26.08</td>\n",
       "      <td>5.11</td>\n",
       "      <td>1.42</td>\n",
       "    </tr>\n",
       "  </tbody>\n",
       "</table>\n",
       "</div>"
      ],
      "text/plain": [
       "   Drug Name   Mean  Median  Variance   Std   SEM\n",
       "0   Ramicane  34.96   34.85     30.10  5.49  1.23\n",
       "1  Capomulin  36.24   37.31     31.46  5.61  1.22\n",
       "2  Infubinol  65.76   66.08     11.79  3.43  1.14\n",
       "3    Placebo  68.08   69.04     20.10  4.48  1.35\n",
       "4   Ceftamin  64.13   64.30     10.59  3.25  0.90\n",
       "5   Stelasyn  68.44   69.30     27.34  5.23  1.58\n",
       "6  Zoniferol  65.96   65.68     14.10  3.76  1.00\n",
       "7   Ketapril  70.66   69.87     23.23  4.82  1.45\n",
       "8   Propriva  66.26   64.96     24.97  5.00  1.89\n",
       "9   Naftisol  69.27   69.56     26.08  5.11  1.42"
      ]
     },
     "execution_count": 515,
     "metadata": {},
     "output_type": "execute_result"
    }
   ],
   "source": [
    "# Generate a summary statistics table of mean, median, variance, standard deviation, and SEM of the tumor volume for each regimen\n",
    "# Answer: I can take several approaches, using groupby or loc, here I used loc\n",
    "# First, I initiate several data series\n",
    "name_sr = []\n",
    "mean_sr = []\n",
    "median_sr = []\n",
    "var_sr = []\n",
    "std_sr = []\n",
    "sem_sr = []\n",
    "\n",
    "# Second, extract number of drugs\n",
    "drug = mouse_merge[\"Drug Regimen\"].unique()\n",
    "n = len(drug)\n",
    "\n",
    "# for each drug, take the data out as temp data, and calculate all the statistics\n",
    "for i in range(n):\n",
    "    data_temp = mouse_merge.loc[mouse_merge[\"Drug Regimen\"] == drug[i]]   \n",
    "    name_sr.append(drug[i])\n",
    "    mean_sr.append(round(data_temp[\"Tumor_volume (mm3)_9\"].mean(),2))\n",
    "    median_sr.append(round(data_temp[\"Tumor_volume (mm3)_9\"].median(),2))\n",
    "    var_sr.append(round(data_temp[\"Tumor_volume (mm3)_9\"].var(),2))\n",
    "    std_sr.append(round(data_temp[\"Tumor_volume (mm3)_9\"].std(),2))\n",
    "    sem_sr.append(round(data_temp[\"Tumor_volume (mm3)_9\"].sem(),2))\n",
    "\n",
    "# put all the data series into a dataframe\n",
    "data = {'Drug Name':name_sr, 'Mean':mean_sr, 'Median':median_sr, 'Variance':var_sr, 'Std':std_sr, 'SEM':sem_sr} \n",
    "  \n",
    "# Creates pandas DataFrame. \n",
    "Table1 = pd.DataFrame(data) \n",
    "# Generate a summary statistics table of mean, median, variance, standard deviation, and SEM of the tumor volume for each regimen\n",
    "Table1"
   ]
  },
  {
   "cell_type": "markdown",
   "metadata": {},
   "source": [
    "## Bar Plots"
   ]
  },
  {
   "cell_type": "code",
   "execution_count": 516,
   "metadata": {},
   "outputs": [
    {
     "name": "stdout",
     "output_type": "stream",
     "text": [
      "Placebo      11\n",
      "Ketapril     11\n",
      "Ceftamin     13\n",
      "Naftisol     13\n",
      "Propriva      7\n",
      "Infubinol     9\n",
      "Stelasyn     11\n",
      "Capomulin    21\n",
      "Ramicane     20\n",
      "Zoniferol    14\n",
      "Name: Drug Regimen, dtype: int64\n",
      "['Ramicane' 'Capomulin' 'Infubinol' 'Placebo' 'Ceftamin' 'Zoniferol'\n",
      " 'Stelasyn' 'Propriva' 'Naftisol' 'Ketapril']\n"
     ]
    }
   ],
   "source": [
    "mouse_merge2 = pd.merge(mouse_metadata, study_results, on=\"Mouse ID\", how=\"right\")\n",
    "#mouse_merge2.shape\n",
    "#mouse_merge2.head()\n",
    "#happiness_df.sort_values(\"Freedom\", ascending=False)\n",
    "\n",
    "data_mouse_temp = mouse_merge2.loc[mouse_merge2[\"Timepoint\"] == timepoint[9]]\n",
    "\n",
    "\n",
    "#data_mouse_temp = sort_values.(\"Drug Regimen\", ascending=False)\n",
    "temp_count = data_mouse_temp[\"Drug Regimen\"].value_counts(sort=False)\n",
    "temp_name = data_mouse_temp[\"Drug Regimen\"].unique()\n",
    "#temp = temp.sort_values(\"Drug Regimen\", ascending=True)\n",
    "print(temp_count)\n",
    "print(temp_name)"
   ]
  },
  {
   "cell_type": "code",
   "execution_count": 517,
   "metadata": {},
   "outputs": [
    {
     "data": {
      "text/html": [
       "<div>\n",
       "<style scoped>\n",
       "    .dataframe tbody tr th:only-of-type {\n",
       "        vertical-align: middle;\n",
       "    }\n",
       "\n",
       "    .dataframe tbody tr th {\n",
       "        vertical-align: top;\n",
       "    }\n",
       "\n",
       "    .dataframe thead th {\n",
       "        text-align: right;\n",
       "    }\n",
       "</style>\n",
       "<table border=\"1\" class=\"dataframe\">\n",
       "  <thead>\n",
       "    <tr style=\"text-align: right;\">\n",
       "      <th></th>\n",
       "      <th>Mouse ID</th>\n",
       "      <th>Drug Regimen</th>\n",
       "      <th>Sex</th>\n",
       "      <th>Age_months</th>\n",
       "      <th>Weight (g)</th>\n",
       "      <th>Timepoint</th>\n",
       "      <th>Tumor Volume (mm3)</th>\n",
       "      <th>Metastatic Sites</th>\n",
       "    </tr>\n",
       "  </thead>\n",
       "  <tbody>\n",
       "    <tr>\n",
       "      <th>0</th>\n",
       "      <td>k403</td>\n",
       "      <td>Ramicane</td>\n",
       "      <td>Male</td>\n",
       "      <td>21</td>\n",
       "      <td>16</td>\n",
       "      <td>0</td>\n",
       "      <td>45.000000</td>\n",
       "      <td>0</td>\n",
       "    </tr>\n",
       "    <tr>\n",
       "      <th>1</th>\n",
       "      <td>k403</td>\n",
       "      <td>Ramicane</td>\n",
       "      <td>Male</td>\n",
       "      <td>21</td>\n",
       "      <td>16</td>\n",
       "      <td>5</td>\n",
       "      <td>38.825898</td>\n",
       "      <td>0</td>\n",
       "    </tr>\n",
       "    <tr>\n",
       "      <th>2</th>\n",
       "      <td>k403</td>\n",
       "      <td>Ramicane</td>\n",
       "      <td>Male</td>\n",
       "      <td>21</td>\n",
       "      <td>16</td>\n",
       "      <td>10</td>\n",
       "      <td>35.014271</td>\n",
       "      <td>1</td>\n",
       "    </tr>\n",
       "    <tr>\n",
       "      <th>3</th>\n",
       "      <td>k403</td>\n",
       "      <td>Ramicane</td>\n",
       "      <td>Male</td>\n",
       "      <td>21</td>\n",
       "      <td>16</td>\n",
       "      <td>15</td>\n",
       "      <td>34.223992</td>\n",
       "      <td>1</td>\n",
       "    </tr>\n",
       "    <tr>\n",
       "      <th>4</th>\n",
       "      <td>k403</td>\n",
       "      <td>Ramicane</td>\n",
       "      <td>Male</td>\n",
       "      <td>21</td>\n",
       "      <td>16</td>\n",
       "      <td>20</td>\n",
       "      <td>32.997729</td>\n",
       "      <td>1</td>\n",
       "    </tr>\n",
       "    <tr>\n",
       "      <th>5</th>\n",
       "      <td>k403</td>\n",
       "      <td>Ramicane</td>\n",
       "      <td>Male</td>\n",
       "      <td>21</td>\n",
       "      <td>16</td>\n",
       "      <td>25</td>\n",
       "      <td>33.464577</td>\n",
       "      <td>1</td>\n",
       "    </tr>\n",
       "    <tr>\n",
       "      <th>6</th>\n",
       "      <td>k403</td>\n",
       "      <td>Ramicane</td>\n",
       "      <td>Male</td>\n",
       "      <td>21</td>\n",
       "      <td>16</td>\n",
       "      <td>30</td>\n",
       "      <td>31.099498</td>\n",
       "      <td>1</td>\n",
       "    </tr>\n",
       "    <tr>\n",
       "      <th>7</th>\n",
       "      <td>k403</td>\n",
       "      <td>Ramicane</td>\n",
       "      <td>Male</td>\n",
       "      <td>21</td>\n",
       "      <td>16</td>\n",
       "      <td>35</td>\n",
       "      <td>26.546993</td>\n",
       "      <td>1</td>\n",
       "    </tr>\n",
       "    <tr>\n",
       "      <th>8</th>\n",
       "      <td>k403</td>\n",
       "      <td>Ramicane</td>\n",
       "      <td>Male</td>\n",
       "      <td>21</td>\n",
       "      <td>16</td>\n",
       "      <td>40</td>\n",
       "      <td>24.365505</td>\n",
       "      <td>1</td>\n",
       "    </tr>\n",
       "    <tr>\n",
       "      <th>9</th>\n",
       "      <td>k403</td>\n",
       "      <td>Ramicane</td>\n",
       "      <td>Male</td>\n",
       "      <td>21</td>\n",
       "      <td>16</td>\n",
       "      <td>45</td>\n",
       "      <td>22.050126</td>\n",
       "      <td>1</td>\n",
       "    </tr>\n",
       "  </tbody>\n",
       "</table>\n",
       "</div>"
      ],
      "text/plain": [
       "  Mouse ID Drug Regimen   Sex  Age_months  Weight (g)  Timepoint  \\\n",
       "0     k403     Ramicane  Male          21          16          0   \n",
       "1     k403     Ramicane  Male          21          16          5   \n",
       "2     k403     Ramicane  Male          21          16         10   \n",
       "3     k403     Ramicane  Male          21          16         15   \n",
       "4     k403     Ramicane  Male          21          16         20   \n",
       "5     k403     Ramicane  Male          21          16         25   \n",
       "6     k403     Ramicane  Male          21          16         30   \n",
       "7     k403     Ramicane  Male          21          16         35   \n",
       "8     k403     Ramicane  Male          21          16         40   \n",
       "9     k403     Ramicane  Male          21          16         45   \n",
       "\n",
       "   Tumor Volume (mm3)  Metastatic Sites  \n",
       "0           45.000000                 0  \n",
       "1           38.825898                 0  \n",
       "2           35.014271                 1  \n",
       "3           34.223992                 1  \n",
       "4           32.997729                 1  \n",
       "5           33.464577                 1  \n",
       "6           31.099498                 1  \n",
       "7           26.546993                 1  \n",
       "8           24.365505                 1  \n",
       "9           22.050126                 1  "
      ]
     },
     "execution_count": 517,
     "metadata": {},
     "output_type": "execute_result"
    }
   ],
   "source": [
    "mouse_merge2.head(10)"
   ]
  },
  {
   "cell_type": "code",
   "execution_count": 518,
   "metadata": {},
   "outputs": [
    {
     "data": {
      "text/html": [
       "<div>\n",
       "<style scoped>\n",
       "    .dataframe tbody tr th:only-of-type {\n",
       "        vertical-align: middle;\n",
       "    }\n",
       "\n",
       "    .dataframe tbody tr th {\n",
       "        vertical-align: top;\n",
       "    }\n",
       "\n",
       "    .dataframe thead th {\n",
       "        text-align: right;\n",
       "    }\n",
       "</style>\n",
       "<table border=\"1\" class=\"dataframe\">\n",
       "  <thead>\n",
       "    <tr style=\"text-align: right;\">\n",
       "      <th></th>\n",
       "      <th></th>\n",
       "      <th>Mouse ID</th>\n",
       "    </tr>\n",
       "    <tr>\n",
       "      <th>Timepoint</th>\n",
       "      <th>Drug Regimen</th>\n",
       "      <th></th>\n",
       "    </tr>\n",
       "  </thead>\n",
       "  <tbody>\n",
       "    <tr>\n",
       "      <th rowspan=\"5\" valign=\"top\">0</th>\n",
       "      <th>Capomulin</th>\n",
       "      <td>25</td>\n",
       "    </tr>\n",
       "    <tr>\n",
       "      <th>Ceftamin</th>\n",
       "      <td>25</td>\n",
       "    </tr>\n",
       "    <tr>\n",
       "      <th>Infubinol</th>\n",
       "      <td>25</td>\n",
       "    </tr>\n",
       "    <tr>\n",
       "      <th>Ketapril</th>\n",
       "      <td>25</td>\n",
       "    </tr>\n",
       "    <tr>\n",
       "      <th>Naftisol</th>\n",
       "      <td>25</td>\n",
       "    </tr>\n",
       "    <tr>\n",
       "      <th>...</th>\n",
       "      <th>...</th>\n",
       "      <td>...</td>\n",
       "    </tr>\n",
       "    <tr>\n",
       "      <th rowspan=\"5\" valign=\"top\">45</th>\n",
       "      <th>Placebo</th>\n",
       "      <td>11</td>\n",
       "    </tr>\n",
       "    <tr>\n",
       "      <th>Propriva</th>\n",
       "      <td>7</td>\n",
       "    </tr>\n",
       "    <tr>\n",
       "      <th>Ramicane</th>\n",
       "      <td>20</td>\n",
       "    </tr>\n",
       "    <tr>\n",
       "      <th>Stelasyn</th>\n",
       "      <td>11</td>\n",
       "    </tr>\n",
       "    <tr>\n",
       "      <th>Zoniferol</th>\n",
       "      <td>14</td>\n",
       "    </tr>\n",
       "  </tbody>\n",
       "</table>\n",
       "<p>100 rows × 1 columns</p>\n",
       "</div>"
      ],
      "text/plain": [
       "                        Mouse ID\n",
       "Timepoint Drug Regimen          \n",
       "0         Capomulin           25\n",
       "          Ceftamin            25\n",
       "          Infubinol           25\n",
       "          Ketapril            25\n",
       "          Naftisol            25\n",
       "...                          ...\n",
       "45        Placebo             11\n",
       "          Propriva             7\n",
       "          Ramicane            20\n",
       "          Stelasyn            11\n",
       "          Zoniferol           14\n",
       "\n",
       "[100 rows x 1 columns]"
      ]
     },
     "execution_count": 518,
     "metadata": {},
     "output_type": "execute_result"
    }
   ],
   "source": [
    "mouse_merge2 = pd.merge(mouse_metadata, study_results, on=\"Mouse ID\", how=\"right\")\n",
    "#mouse_merge2.groupby('Drug Regimen','Timepoint').value_counts()\n",
    "mouse_merge2.head()\n",
    "temp = mouse_merge2.groupby([\"Timepoint\",\"Drug Regimen\"])\n",
    "temp_df = pd.DataFrame(temp[\"Mouse ID\"].count())\n",
    "temp_df "
   ]
  },
  {
   "cell_type": "code",
   "execution_count": 524,
   "metadata": {},
   "outputs": [
    {
     "data": {
      "text/html": [
       "<div>\n",
       "<style scoped>\n",
       "    .dataframe tbody tr th:only-of-type {\n",
       "        vertical-align: middle;\n",
       "    }\n",
       "\n",
       "    .dataframe tbody tr th {\n",
       "        vertical-align: top;\n",
       "    }\n",
       "\n",
       "    .dataframe thead th {\n",
       "        text-align: right;\n",
       "    }\n",
       "</style>\n",
       "<table border=\"1\" class=\"dataframe\">\n",
       "  <thead>\n",
       "    <tr style=\"text-align: right;\">\n",
       "      <th></th>\n",
       "      <th>Timepoint_0</th>\n",
       "      <th>Timepoint_5</th>\n",
       "      <th>Timepoint_10</th>\n",
       "      <th>Timepoint_15</th>\n",
       "      <th>Timepoint_20</th>\n",
       "      <th>Timepoint_25</th>\n",
       "      <th>Timepoint_30</th>\n",
       "      <th>Timepoint_35</th>\n",
       "      <th>Timepoint_40</th>\n",
       "      <th>Timepoint_45</th>\n",
       "    </tr>\n",
       "    <tr>\n",
       "      <th>Drug Regimen</th>\n",
       "      <th></th>\n",
       "      <th></th>\n",
       "      <th></th>\n",
       "      <th></th>\n",
       "      <th></th>\n",
       "      <th></th>\n",
       "      <th></th>\n",
       "      <th></th>\n",
       "      <th></th>\n",
       "      <th></th>\n",
       "    </tr>\n",
       "  </thead>\n",
       "  <tbody>\n",
       "    <tr>\n",
       "      <th>Capomulin</th>\n",
       "      <td>25</td>\n",
       "      <td>25</td>\n",
       "      <td>25</td>\n",
       "      <td>24</td>\n",
       "      <td>23</td>\n",
       "      <td>22</td>\n",
       "      <td>22</td>\n",
       "      <td>22</td>\n",
       "      <td>21</td>\n",
       "      <td>21</td>\n",
       "    </tr>\n",
       "    <tr>\n",
       "      <th>Ceftamin</th>\n",
       "      <td>25</td>\n",
       "      <td>21</td>\n",
       "      <td>20</td>\n",
       "      <td>19</td>\n",
       "      <td>18</td>\n",
       "      <td>18</td>\n",
       "      <td>16</td>\n",
       "      <td>14</td>\n",
       "      <td>14</td>\n",
       "      <td>13</td>\n",
       "    </tr>\n",
       "    <tr>\n",
       "      <th>Infubinol</th>\n",
       "      <td>25</td>\n",
       "      <td>25</td>\n",
       "      <td>21</td>\n",
       "      <td>21</td>\n",
       "      <td>20</td>\n",
       "      <td>18</td>\n",
       "      <td>17</td>\n",
       "      <td>12</td>\n",
       "      <td>10</td>\n",
       "      <td>9</td>\n",
       "    </tr>\n",
       "    <tr>\n",
       "      <th>Ketapril</th>\n",
       "      <td>25</td>\n",
       "      <td>23</td>\n",
       "      <td>22</td>\n",
       "      <td>19</td>\n",
       "      <td>19</td>\n",
       "      <td>19</td>\n",
       "      <td>18</td>\n",
       "      <td>17</td>\n",
       "      <td>15</td>\n",
       "      <td>11</td>\n",
       "    </tr>\n",
       "    <tr>\n",
       "      <th>Naftisol</th>\n",
       "      <td>25</td>\n",
       "      <td>23</td>\n",
       "      <td>21</td>\n",
       "      <td>21</td>\n",
       "      <td>20</td>\n",
       "      <td>18</td>\n",
       "      <td>15</td>\n",
       "      <td>15</td>\n",
       "      <td>15</td>\n",
       "      <td>13</td>\n",
       "    </tr>\n",
       "    <tr>\n",
       "      <th>Placebo</th>\n",
       "      <td>25</td>\n",
       "      <td>24</td>\n",
       "      <td>24</td>\n",
       "      <td>20</td>\n",
       "      <td>19</td>\n",
       "      <td>17</td>\n",
       "      <td>15</td>\n",
       "      <td>14</td>\n",
       "      <td>12</td>\n",
       "      <td>11</td>\n",
       "    </tr>\n",
       "    <tr>\n",
       "      <th>Propriva</th>\n",
       "      <td>26</td>\n",
       "      <td>25</td>\n",
       "      <td>23</td>\n",
       "      <td>17</td>\n",
       "      <td>17</td>\n",
       "      <td>14</td>\n",
       "      <td>13</td>\n",
       "      <td>10</td>\n",
       "      <td>9</td>\n",
       "      <td>7</td>\n",
       "    </tr>\n",
       "    <tr>\n",
       "      <th>Ramicane</th>\n",
       "      <td>25</td>\n",
       "      <td>25</td>\n",
       "      <td>24</td>\n",
       "      <td>24</td>\n",
       "      <td>23</td>\n",
       "      <td>23</td>\n",
       "      <td>23</td>\n",
       "      <td>21</td>\n",
       "      <td>20</td>\n",
       "      <td>20</td>\n",
       "    </tr>\n",
       "    <tr>\n",
       "      <th>Stelasyn</th>\n",
       "      <td>24</td>\n",
       "      <td>23</td>\n",
       "      <td>21</td>\n",
       "      <td>21</td>\n",
       "      <td>19</td>\n",
       "      <td>18</td>\n",
       "      <td>17</td>\n",
       "      <td>15</td>\n",
       "      <td>12</td>\n",
       "      <td>11</td>\n",
       "    </tr>\n",
       "    <tr>\n",
       "      <th>Zoniferol</th>\n",
       "      <td>25</td>\n",
       "      <td>24</td>\n",
       "      <td>22</td>\n",
       "      <td>21</td>\n",
       "      <td>17</td>\n",
       "      <td>16</td>\n",
       "      <td>15</td>\n",
       "      <td>14</td>\n",
       "      <td>14</td>\n",
       "      <td>14</td>\n",
       "    </tr>\n",
       "  </tbody>\n",
       "</table>\n",
       "</div>"
      ],
      "text/plain": [
       "              Timepoint_0  Timepoint_5  Timepoint_10  Timepoint_15  \\\n",
       "Drug Regimen                                                         \n",
       "Capomulin              25           25            25            24   \n",
       "Ceftamin               25           21            20            19   \n",
       "Infubinol              25           25            21            21   \n",
       "Ketapril               25           23            22            19   \n",
       "Naftisol               25           23            21            21   \n",
       "Placebo                25           24            24            20   \n",
       "Propriva               26           25            23            17   \n",
       "Ramicane               25           25            24            24   \n",
       "Stelasyn               24           23            21            21   \n",
       "Zoniferol              25           24            22            21   \n",
       "\n",
       "              Timepoint_20  Timepoint_25  Timepoint_30  Timepoint_35  \\\n",
       "Drug Regimen                                                           \n",
       "Capomulin               23            22            22            22   \n",
       "Ceftamin                18            18            16            14   \n",
       "Infubinol               20            18            17            12   \n",
       "Ketapril                19            19            18            17   \n",
       "Naftisol                20            18            15            15   \n",
       "Placebo                 19            17            15            14   \n",
       "Propriva                17            14            13            10   \n",
       "Ramicane                23            23            23            21   \n",
       "Stelasyn                19            18            17            15   \n",
       "Zoniferol               17            16            15            14   \n",
       "\n",
       "              Timepoint_40  Timepoint_45  \n",
       "Drug Regimen                              \n",
       "Capomulin               21            21  \n",
       "Ceftamin                14            13  \n",
       "Infubinol               10             9  \n",
       "Ketapril                15            11  \n",
       "Naftisol                15            13  \n",
       "Placebo                 12            11  \n",
       "Propriva                 9             7  \n",
       "Ramicane                20            20  \n",
       "Stelasyn                12            11  \n",
       "Zoniferol               14            14  "
      ]
     },
     "execution_count": 524,
     "metadata": {},
     "output_type": "execute_result"
    }
   ],
   "source": [
    "temp_df_merge = temp_df.loc[timepoint[0]]\n",
    "temp_df_merge = temp_df_merge.rename(columns={\"Mouse ID\":\"Timepoint_\"+str(timepoint[0])})\n",
    "\n",
    "for i in range(1,len(timepoint)):\n",
    "    temp_df_time = temp_df.loc[timepoint[i]]\n",
    "    temp_df_time = temp_df_time.rename(columns={\"Mouse ID\":\"Timepoint_\"+str(timepoint[i])})\n",
    "    temp_df_merge = pd.merge(temp_df_merge, temp_df_time, on=\"Drug Regimen\", how=\"left\")\n",
    "\n",
    "temp_df_merge"
   ]
  },
  {
   "cell_type": "code",
   "execution_count": 613,
   "metadata": {},
   "outputs": [
    {
     "data": {
      "image/png": "[encoded data removed]",
      "text/plain": [
       "<Figure size 432x288 with 1 Axes>"
      ]
     },
     "metadata": {
      "needs_background": "light"
     },
     "output_type": "display_data"
    },
    {
     "data": {
      "image/png": "[encoded data removed]",
      "text/plain": [
       "<Figure size 432x288 with 1 Axes>"
      ]
     },
     "metadata": {
      "needs_background": "light"
     },
     "output_type": "display_data"
    },
    {
     "data": {
      "image/png": "[encoded data removed]",
      "text/plain": [
       "<Figure size 432x288 with 1 Axes>"
      ]
     },
     "metadata": {
      "needs_background": "light"
     },
     "output_type": "display_data"
    },
    {
     "data": {
      "image/png": "[encoded data removed]",
      "text/plain": [
       "<Figure size 432x288 with 1 Axes>"
      ]
     },
     "metadata": {
      "needs_background": "light"
     },
     "output_type": "display_data"
    },
    {
     "data": {
      "image/png": "[encoded data removed]",
      "text/plain": [
       "<Figure size 432x288 with 1 Axes>"
      ]
     },
     "metadata": {
      "needs_background": "light"
     },
     "output_type": "display_data"
    },
    {
     "data": {
      "image/png": "[encoded data removed]",
      "text/plain": [
       "<Figure size 432x288 with 1 Axes>"
      ]
     },
     "metadata": {
      "needs_background": "light"
     },
     "output_type": "display_data"
    },
    {
     "data": {
      "image/png": "[encoded data removed]",
      "text/plain": [
       "<Figure size 432x288 with 1 Axes>"
      ]
     },
     "metadata": {
      "needs_background": "light"
     },
     "output_type": "display_data"
    },
    {
     "data": {
      "image/png": "[encoded data removed]",
      "text/plain": [
       "<Figure size 432x288 with 1 Axes>"
      ]
     },
     "metadata": {
      "needs_background": "light"
     },
     "output_type": "display_data"
    },
    {
     "data": {
      "image/png": "[encoded data removed]",
      "text/plain": [
       "<Figure size 432x288 with 1 Axes>"
      ]
     },
     "metadata": {
      "needs_background": "light"
     },
     "output_type": "display_data"
    },
    {
     "data": {
      "image/png": "[encoded data removed]",
      "text/plain": [
       "<Figure size 432x288 with 1 Axes>"
      ]
     },
     "metadata": {
      "needs_background": "light"
     },
     "output_type": "display_data"
    }
   ],
   "source": [
    "# Generate a bar plot showing the number of mice per time point for each treatment throughout the course of the study using pyplot.\n",
    "import numpy as np\n",
    "\n",
    "# n is the time of loops\n",
    "# I need to know the specific drug name\n",
    "n = len(timepoint)\n",
    "temp_df_names = temp_df_merge.index\n",
    "\n",
    "\n",
    "for i in range(n):\n",
    "    name_temp = temp_df_names[i]\n",
    "\n",
    "    x_axis = np.arange(n)\n",
    "    y_axis1 = temp_df_merge.iloc[i,:]\n",
    "    y_axis1\n",
    "    plt.bar(x_axis, y_axis1, color='r', alpha=0.5, align=\"center\")\n",
    "    plt.title(\"Number of mice for \" + str(name_temp))\n",
    "    plt.xlabel(\"Time Point\")\n",
    "    plt.ylabel(\"Number of Mice\")\n",
    "    plt.show()\n"
   ]
  },
  {
   "cell_type": "code",
   "execution_count": 614,
   "metadata": {},
   "outputs": [
    {
     "data": {
      "image/png": "[encoded data removed]",
      "text/plain": [
       "<Figure size 1440x720 with 1 Axes>"
      ]
     },
     "metadata": {
      "needs_background": "light"
     },
     "output_type": "display_data"
    }
   ],
   "source": [
    "# I did something here to put everything in one bar graph, to compare between drugs and time point. \n",
    "# set width of bar\n",
    "barWidth = 0.08\n",
    "\n",
    "# Set position of bar on X axis\n",
    "r1 = np.arange(n)\n",
    "r2 = [x + barWidth for x in r1]\n",
    "r3 = [x + barWidth for x in r2]\n",
    "r4 = [x + barWidth for x in r3]\n",
    "r5 = [x + barWidth for x in r4]\n",
    "r6 = [x + barWidth for x in r5]\n",
    "r7 = [x + barWidth for x in r6]\n",
    "r8 = [x + barWidth for x in r7]\n",
    "r9 = [x + barWidth for x in r8]\n",
    "r10 = [x + barWidth for x in r9]\n",
    "\n",
    "x_axis = np.arange(n)\n",
    "\n",
    "bars0 = temp_df_merge.iloc[0,:]\n",
    "bars1 = temp_df_merge.iloc[1,:]\n",
    "bars2 = temp_df_merge.iloc[2,:]\n",
    "bars3 = temp_df_merge.iloc[3,:]\n",
    "bars4 = temp_df_merge.iloc[4,:]\n",
    "bars5 = temp_df_merge.iloc[5,:]\n",
    "bars6 = temp_df_merge.iloc[6,:]\n",
    "bars7 = temp_df_merge.iloc[7,:]\n",
    "bars8 = temp_df_merge.iloc[8,:]\n",
    "bars9 = temp_df_merge.iloc[9,:]\n",
    "\n",
    "\n",
    "plt.figure(figsize=(20,10))\n",
    "plt.bar(r1, bars0, color=\"aqua\",     width=barWidth, edgecolor='white', label=str(temp_df_merge.index[0]))\n",
    "plt.bar(r2, bars1, color=\"black\",    width=barWidth, edgecolor='white', label=str(temp_df_merge.index[1]))\n",
    "plt.bar(r3, bars2, color=\"blue\",     width=barWidth, edgecolor='white', label=str(temp_df_merge.index[2]))\n",
    "plt.bar(r4, bars3, color=\"brown\",    width=barWidth, edgecolor='white', label=str(temp_df_merge.index[3]))\n",
    "plt.bar(r5, bars4, color=\"crimson\",  width=barWidth, edgecolor='white', label=str(temp_df_merge.index[4]))\n",
    "plt.bar(r6, bars5, color=\"green\",    width=barWidth, edgecolor='white', label=str(temp_df_merge.index[5]))\n",
    "plt.bar(r7, bars6, color=\"gold\",     width=barWidth, edgecolor='white', label=str(temp_df_merge.index[6]))\n",
    "plt.bar(r8, bars7, color=\"indigo\",   width=barWidth, edgecolor='white', label=str(temp_df_merge.index[7]))\n",
    "plt.bar(r9, bars8, color=\"lavender\", width=barWidth, edgecolor='white', label=str(temp_df_merge.index[8]))\n",
    "plt.bar(r10, bars9, color=\"green\",   width=barWidth, edgecolor='white', label=str(temp_df_merge.index[9]))\n",
    "\n",
    "plt.xlabel('group', fontweight='bold')\n",
    "plt.xticks([r + barWidth*4.5 for r in range(n)], ['Timepoint 0','Timepoint 1', 'Timepoint 2', 'Timepoint 3', 'Timepoint 4', 'Timepoint 5',\n",
    "                                                'Timepoint 6', 'Timepoint 7', 'Timepoint 8', 'Timepoint 9'],rotation=90)\n",
    " \n",
    "# Create legend & Show graphic\n",
    "plt.legend()\n",
    "\n",
    "plt.title(\"Number of mice by drug and time point\")\n",
    "plt.xlabel(\"Time point\")\n",
    "plt.ylabel(\"Number of Mice\")\n",
    "\n",
    "\n",
    "plt.xlim(0, 10)\n",
    "plt.ylim(0, 28)\n",
    "\n",
    "\n",
    "plt.show()\n"
   ]
  },
  {
   "cell_type": "code",
   "execution_count": 615,
   "metadata": {},
   "outputs": [
    {
     "data": {
      "text/plain": [
       "([<matplotlib.patches.Wedge at 0x1a27d1d940>,\n",
       "  <matplotlib.patches.Wedge at 0x1a27d1f320>],\n",
       " [Text(-1.1337516867549884, -0.1926320658151672, 'Female mice'),\n",
       "  Text(1.0844581524083035, 0.18425665707151234, 'Male mice')],\n",
       " [Text(-0.6408161707745585, -0.10887899372161625, '55.4%'),\n",
       "  Text(0.5915226285863473, 0.10050363112991582, '44.6%')])"
      ]
     },
     "execution_count": 615,
     "metadata": {},
     "output_type": "execute_result"
    },
    {
     "data": {
      "image/png": "[encoded data removed]",
      "text/plain": [
       "<Figure size 432x288 with 1 Axes>"
      ]
     },
     "metadata": {},
     "output_type": "display_data"
    }
   ],
   "source": [
    "\n",
    "# Generate a pie plot showing the distribution of female versus male mice using pyplot\n",
    "size_female = mouse_merge[mouse_merge[\"Sex\"]==\"Female\"].shape[0]\n",
    "size_male = mouse_merge[mouse_merge[\"Sex\"]==\"Male\"].shape[0]\n",
    "sizes = [size_female, size_male]\n",
    "explode = (0.05,0)\n",
    "labels = [\"Female mice\", \"Male mice\"]\n",
    "colors = [\"red\", \"lightcoral\"]\n",
    "\n",
    "sizes\n",
    "#mouse_merge[\"Mouse ID\"]\n",
    "plt.pie(sizes, explode=explode, labels=labels, colors=colors, autopct=\"%1.1f%%\", shadow=True, startangle=90)"
   ]
  },
  {
   "cell_type": "code",
   "execution_count": 616,
   "metadata": {},
   "outputs": [
    {
     "data": {
      "text/plain": [
       "<matplotlib.axes._subplots.AxesSubplot at 0x1a27d1d908>"
      ]
     },
     "execution_count": 616,
     "metadata": {},
     "output_type": "execute_result"
    },
    {
     "data": {
      "image/png": "[encoded data removed]",
      "text/plain": [
       "<Figure size 288x288 with 1 Axes>"
      ]
     },
     "metadata": {},
     "output_type": "display_data"
    }
   ],
   "source": [
    "# Generate a pie plot showing the distribution of female versus male mice using pandas\n",
    "pie_temp = pd.DataFrame({'Sizes': sizes},\n",
    "                  index=['Female mice', 'Male Mice'])\n",
    "pie_temp.plot.pie(y='Sizes', figsize=(4, 4))"
   ]
  },
  {
   "cell_type": "markdown",
   "metadata": {},
   "source": [
    "## Quartiles, Outliers and Boxplots"
   ]
  },
  {
   "cell_type": "code",
   "execution_count": 617,
   "metadata": {},
   "outputs": [
    {
     "name": "stdout",
     "output_type": "stream",
     "text": [
      "              Total_volume  25_Percentile  75_Percentile       IQR\n",
      "Drug Regimen                                                      \n",
      "Ramicane         34.955595      30.981175      38.508305  7.527130\n",
      "Capomulin        36.236114      32.377357      40.159220  7.781863\n",
      "Ceftamin         64.132421      61.433892      67.527482  6.093590\n",
      "Infubinol        65.755562      62.754451      67.685569  4.931117\n",
      "Remicane and Capomulin are similar to each other, and have lower mean tumor volumes than Ceftamin and Infubinol\n"
     ]
    }
   ],
   "source": [
    "# Calculate the final tumor volume of each mouse across four of the most promising treatment regimens. Calculate the IQR and quantitatively determine if there are any potential outliers. \n",
    "temp_mouse_merge = mouse_merge[[\"Mouse ID\", \"Drug Regimen\", \"Tumor_volume (mm3)_9\"]]\n",
    "temp_mouse_merge_group = temp_mouse_merge.groupby(\"Drug Regimen\")\n",
    "\n",
    "temp_df_total = pd.DataFrame(temp_mouse_merge_group[\"Tumor_volume (mm3)_9\"].mean())\n",
    "temp_df_total = temp_df_total.rename(columns={\"Tumor_volume (mm3)_9\":\"Total_volume\"})\n",
    "                                              \n",
    "temp_df_25 = pd.DataFrame(temp_mouse_merge_group[\"Tumor_volume (mm3)_9\"].quantile(.25))\n",
    "temp_df_25 = temp_df_25.rename(columns={\"Tumor_volume (mm3)_9\":\"25_Percentile\"})\n",
    "\n",
    "temp_df_75 = pd.DataFrame(temp_mouse_merge_group[\"Tumor_volume (mm3)_9\"].quantile(.75))\n",
    "temp_df_75 = temp_df_75.rename(columns={\"Tumor_volume (mm3)_9\":\"75_Percentile\"})\n",
    "\n",
    "temp_df = pd.merge(temp_df_total, temp_df_25, on=\"Drug Regimen\", how=\"left\")\n",
    "temp_df = pd.merge(temp_df, temp_df_75, on=\"Drug Regimen\", how=\"left\")\n",
    "\n",
    "temp_df[\"IQR\"] = temp_df_75[\"75_Percentile\"] - temp_df_25[\"25_Percentile\"]\n",
    "\n",
    "temp_df = temp_df.sort_values(\"Total_volume\", ascending=True)\n",
    "\n",
    "temp_df_reduced = temp_df[0:4]\n",
    "print(temp_df_reduced)\n",
    "\n",
    "print(\"Remicane and Capomulin are similar to each other, and have lower mean tumor volumes than Ceftamin and Infubinol\")"
   ]
  },
  {
   "cell_type": "code",
   "execution_count": 560,
   "metadata": {},
   "outputs": [
    {
     "data": {
      "image/png": "[encoded data removed]",
      "text/plain": [
       "<Figure size 432x288 with 1 Axes>"
      ]
     },
     "metadata": {
      "needs_background": "light"
     },
     "output_type": "display_data"
    }
   ],
   "source": [
    "# Generate a box plot of the final tumor volume of each mouse across four regimens of interest\n",
    "temp_mouse_merge1 = temp_mouse_merge.loc[temp_mouse_merge[\"Drug Regimen\"] == \"Ramicane\"]\n",
    "volumn1 = temp_mouse_merge1[\"Tumor_volume (mm3)_9\"].dropna()\n",
    "\n",
    "temp_mouse_merge2 = temp_mouse_merge.loc[temp_mouse_merge[\"Drug Regimen\"] == \"Capomulin\"]\n",
    "volumn2 = temp_mouse_merge2[\"Tumor_volume (mm3)_9\"].dropna()\n",
    "\n",
    "temp_mouse_merge3 = temp_mouse_merge.loc[temp_mouse_merge[\"Drug Regimen\"] == \"Ceftamin\"]\n",
    "volumn3 = temp_mouse_merge3[\"Tumor_volume (mm3)_9\"].dropna()\n",
    "\n",
    "\n",
    "temp_mouse_merge4 = temp_mouse_merge.loc[temp_mouse_merge[\"Drug Regimen\"] == \"Infubinol\"]\n",
    "volumn4 = temp_mouse_merge4[\"Tumor_volume (mm3)_9\"].dropna()\n",
    "\n",
    "\n",
    "\n",
    "data = [volumn1, volumn2, volumn3, volumn4]\n",
    "\n",
    "fig4, ax4 = plt.subplots()\n",
    "ax4.set_title('Tumor tumor volumn by top 4 drugs')\n",
    "ax4.set_ylabel('Volumn')\n",
    "\n",
    "ax4.boxplot(data)\n",
    "plt.xticks([1, 2, 3 ,4], ['Ramicane', 'Capomulin', 'Ceftamin','Infubinol'])\n",
    "\n",
    "ax4.set_xlim(0, 5)\n",
    "ax4.set_ylim(15, 80)\n",
    "\n",
    "plt.show()\n",
    "\n",
    "\n"
   ]
  },
  {
   "cell_type": "markdown",
   "metadata": {},
   "source": [
    "## Line and Scatter Plots"
   ]
  },
  {
   "cell_type": "code",
   "execution_count": 618,
   "metadata": {},
   "outputs": [
    {
     "data": {
      "image/png": "[encoded data removed]",
      "text/plain": [
       "<Figure size 432x288 with 1 Axes>"
      ]
     },
     "metadata": {
      "needs_background": "light"
     },
     "output_type": "display_data"
    }
   ],
   "source": [
    "# Generate a line plot of time point versus tumor volume for a mouse treated with Capomulin\n",
    "mouse_merge.head()\n",
    "\n",
    "# I select the first mouse I saw that was treated with Capomulin\n",
    "mouse_id = \"s185\"\n",
    "\n",
    "temp_mouse = mouse_merge.loc[mouse_merge[\"Mouse ID\"] == mouse_id]\n",
    "temp_mouse = temp_mouse[[\"Tumor_volume (mm3)_0\",\"Tumor_volume (mm3)_1\",\"Tumor_volume (mm3)_2\",\"Tumor_volume (mm3)_3\",\"Tumor_volume (mm3)_4\",\"Tumor_volume (mm3)_5\"\n",
    "                        ,\"Tumor_volume (mm3)_6\",\"Tumor_volume (mm3)_7\",\"Tumor_volume (mm3)_8\",\"Tumor_volume (mm3)_9\"]]\n",
    "\n",
    "temp_mouse = temp_mouse.transpose()\n",
    "x_axis = np.arange(len(timepoint))\n",
    "\n",
    "cap_mouse, = plt.plot(x_axis, temp_mouse, color=\"red\", label=\"Tumor volumn for mouse S185 treated with Capomulin\")\n",
    "plt.legend()\n",
    "\n",
    "#plt.xticks(range(len(timepoint)), ['Ramicane', 'Capomulin', 'Ceftamin','Infubinol'])\n",
    "\n",
    "plt.xlim(0, 9)\n",
    "plt.ylim(15, 50)\n",
    "\n",
    "\n",
    "plt.xticks(np.arange(0,10,1)) \n",
    "\n",
    "# Show the chart\n",
    "plt.show()"
   ]
  },
  {
   "cell_type": "code",
   "execution_count": 581,
   "metadata": {},
   "outputs": [
    {
     "data": {
      "image/png": "[encoded data removed]",
      "text/plain": [
       "<Figure size 432x288 with 1 Axes>"
      ]
     },
     "metadata": {
      "needs_background": "light"
     },
     "output_type": "display_data"
    }
   ],
   "source": [
    "# Generate a scatter plot of mouse weight versus average tumor volume for the Capomulin regimen\n",
    "mouse_merge.head()\n",
    "temp_mouse = mouse_merge.loc[mouse_merge[\"Drug Regimen\"] == \"Capomulin\"]\n",
    "temp_volumn = temp_mouse.dropna()\n",
    "\n",
    "\n",
    "#temp_volumn_rd = temp_volumn[[\"Mouse ID\", \"Weight(g)\", \"Tumor_volume (mm3)_9\"]]\n",
    "#temp_mouse_merge_group = temp_mouse_merge.groupby(\"Drug Regimen\")\n",
    "\n",
    "temp_volumn_group = temp_volumn.groupby([\"Weight (g)\"])\n",
    "temp_volumn_group\n",
    "temp_volumn_y = pd.DataFrame(temp_volumn_group[\"Tumor_volume (mm3)_9\"].mean())\n",
    "temp_volumn_y = temp_volumn_y.rename(columns={\"Tumor_volume (mm3)_9\":\"Averge_volume_by_weight\"})\n",
    "\n",
    "\n",
    "temp_volumn_y.shape\n",
    "temp_volumn_x = pd.DataFrame(temp_volumn_group[\"Weight (g)\"].unique())\n",
    "temp_volumn_x.shape\n",
    "\n",
    "\n",
    "plt.scatter(temp_volumn_x, temp_volumn_y, marker=\"o\", facecolors=\"red\", alpha=1)\n",
    "plt.title(\"Average tumor volumn by mouse weight\")\n",
    "plt.xlabel(\"Weight\")\n",
    "plt.ylabel(\"Average tumor volumn\")\n",
    "plt.xticks(np.arange(14,27,1)) \n",
    "\n",
    "plt.xlim(14, 26)\n",
    "plt.ylim(26, 50)\n",
    "\n",
    "plt.show()"
   ]
  },
  {
   "cell_type": "markdown",
   "metadata": {},
   "source": [
    "## Correlation and Regression"
   ]
  },
  {
   "cell_type": "code",
   "execution_count": 619,
   "metadata": {},
   "outputs": [
    {
     "name": "stdout",
     "output_type": "stream",
     "text": [
      "The correlation coefficient is 0.92\n",
      "The r-squared is: 0.92, which shows a strong evidence of linear relationship.\n"
     ]
    },
    {
     "data": {
      "image/png": "[encoded data removed]",
      "text/plain": [
       "<Figure size 432x288 with 1 Axes>"
      ]
     },
     "metadata": {
      "needs_background": "light"
     },
     "output_type": "display_data"
    }
   ],
   "source": [
    "# Calculate the correlation coefficient and linear regression model \n",
    "# for mouse weight and average tumor volume for the Capomulin regimen\n",
    "\n",
    "#temp_volumn_y[\"Averge_volume_by_weight\"]\n",
    "#temp_volumn_x[\"Weight (g)\"].astype(float)\n",
    "\n",
    "temp_volumn_x[\"Weight (g)\"] = temp_volumn_x[\"Weight (g)\"].astype(float)\n",
    "coef = round(st.pearsonr(temp_volumn_x[\"Weight (g)\"],temp_volumn_y[\"Averge_volume_by_weight\"])[0],2)\n",
    "print(f\"The correlation coefficient is {coef}\")\n",
    "\n",
    "from scipy.stats import linregress\n",
    "\n",
    "(slope, intercept, rvalue, pvalue, stderr) = linregress(temp_volumn_x[\"Weight (g)\"], temp_volumn_y[\"Averge_volume_by_weight\"])\n",
    "y_fitted = temp_volumn_x[\"Weight (g)\"] * slope + intercept\n",
    "line_eq = \"y = \" + str(round(slope,2)) + \"x + \" + str(round(intercept,2))\n",
    "plt.scatter(temp_volumn_x[\"Weight (g)\"], temp_volumn_y[\"Averge_volume_by_weight\"])\n",
    "plt.plot(temp_volumn_x[\"Weight (g)\"],y_fitted,\"r-\")\n",
    "\n",
    "plt.annotate(line_eq,(18,32),fontsize=11,color=\"red\")\n",
    "plt.title(\"Average tumor volumn by mouse weight\")\n",
    "plt.xlabel(\"Weight\")\n",
    "plt.ylabel(\"Average tumor volumn\")\n",
    "print(f\"The r-squared is: {round(rvalue,2)}, which shows a strong evidence of linear relationship.\")\n",
    "plt.xticks(np.arange(14,27,1)) \n",
    "\n",
    "plt.xlim(14, 26)\n",
    "plt.ylim(26, 50)\n",
    "plt.show()"
   ]
  },
  {
   "cell_type": "code",
   "execution_count": null,
   "metadata": {},
   "outputs": [],
   "source": []
  }
 ],
 "metadata": {
  "anaconda-cloud": {},
  "kernelspec": {
   "display_name": "Python 3",
   "language": "python",
   "name": "python3"
  },
  "language_info": {
   "codemirror_mode": {
    "name": "ipython",
    "version": 3
   },
   "file_extension": ".py",
   "mimetype": "text/x-python",
   "name": "python",
   "nbconvert_exporter": "python",
   "pygments_lexer": "ipython3",
   "version": "3.6.10"
  }
 },
 "nbformat": 4,
 "nbformat_minor": 2
}
